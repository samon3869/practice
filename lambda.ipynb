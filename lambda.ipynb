{
  "nbformat": 4,
  "nbformat_minor": 0,
  "metadata": {
    "colab": {
      "name": "Untitled0.ipynb",
      "provenance": [],
      "toc_visible": true,
      "authorship_tag": "ABX9TyOWJ/Os+t2LyZNO6WKbcFX7",
      "include_colab_link": true
    },
    "kernelspec": {
      "name": "python3",
      "display_name": "Python 3"
    },
    "language_info": {
      "name": "python"
    }
  },
  "cells": [
    {
      "cell_type": "markdown",
      "metadata": {
        "id": "view-in-github",
        "colab_type": "text"
      },
      "source": [
        "<a href=\"https://colab.research.google.com/github/samon3869/practice/blob/master/lambda.ipynb\" target=\"_parent\"><img src=\"https://colab.research.google.com/assets/colab-badge.svg\" alt=\"Open In Colab\"/></a>"
      ]
    },
    {
      "cell_type": "code",
      "metadata": {
        "id": "le5C-ocLLcsp"
      },
      "source": [
        "plus_one_lambda = lambda x: x+1\n",
        "a = [1, 2, 3]\n",
        "print(list(map(plus_one_lambda, a)))\n",
        "\n",
        "def plust_one(x):\n",
        "  return x+1\n",
        "a = [1, 2, 3]\n",
        "print(list(map(plust_one, a)))\n",
        "\n",
        "a = [1, 2, 3]\n",
        "print(list(map(lambda x: x+1, a)))"
      ],
      "execution_count": null,
      "outputs": []
    },
    {
      "cell_type": "code",
      "metadata": {
        "id": "Gnh--Fs6-NsD"
      },
      "source": [
        "def plus_one(x):\n",
        "  return x+1\n",
        "\n",
        "print(plus_one(2))"
      ],
      "execution_count": null,
      "outputs": []
    },
    {
      "cell_type": "code",
      "metadata": {
        "id": "AmprIj8VK2BE"
      },
      "source": [
        "plust_two=lambda x: x+2\n",
        "print(plust_two(2))"
      ],
      "execution_count": null,
      "outputs": []
    }
  ]
}